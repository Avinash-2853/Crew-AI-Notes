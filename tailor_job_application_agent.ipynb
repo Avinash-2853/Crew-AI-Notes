{
 "cells": [
  {
   "cell_type": "markdown",
   "metadata": {},
   "source": [
    "# Crew to tailor job application"
   ]
  },
  {
   "cell_type": "code",
   "execution_count": 2,
   "metadata": {},
   "outputs": [],
   "source": [
    "from crewai import Agent, Task, LLM, Crew\n",
    "import os\n",
    "from dotenv import load_dotenv"
   ]
  },
  {
   "cell_type": "code",
   "execution_count": null,
   "metadata": {},
   "outputs": [],
   "source": [
    "load_dotenv()\n",
    "serper_api_key = os.getenv(\"SERPER_API_KEY\")\n",
    "\n"
   ]
  },
  {
   "cell_type": "code",
   "execution_count": 9,
   "metadata": {},
   "outputs": [],
   "source": [
    "myllm = LLM(\n",
    "    model = \"gemini/gemini-2.0-flash\",\n",
    "    api_key = os.getenv(\"GOOGLE_API_KEY\")\n",
    ")"
   ]
  },
  {
   "cell_type": "code",
   "execution_count": 21,
   "metadata": {},
   "outputs": [],
   "source": [
    "from crewai_tools import (\n",
    "  FileReadTool,\n",
    "  ScrapeWebsiteTool,\n",
    "  MDXSearchTool,\n",
    "  SerperDevTool\n",
    ")\n",
    "\n",
    "search_tool = SerperDevTool()\n",
    "scrape_tool = ScrapeWebsiteTool()\n",
    "read_resume = FileReadTool(file_path='./fake_resume.md')\n",
    "semantic_search_resume = MDXSearchTool(\n",
    "    config=dict(\n",
    "        llm=dict(\n",
    "            provider=\"google\", # Options include google, openai, anthropic, llama2, etc.\n",
    "            config=dict(\n",
    "                model=\"gemini-2.0-flash\",\n",
    "                api_key = os.getenv(\"GOOGLE_API_KEY\")\n",
    "                # Optional parameters can be included here.\n",
    "                # temperature=0.5,\n",
    "                # top_p=1,\n",
    "                # stream=true,\n",
    "            ),\n",
    "        ),\n",
    "        embedder=dict(\n",
    "            provider=\"google\", # or openai, ollama, ...\n",
    "            config=dict(\n",
    "                model=\"models/embedding-001\",\n",
    "                task_type=\"retrieval_document\",\n",
    "                # Optional title for the embeddings can be added here.\n",
    "                # title=\"Embeddings\",\n",
    "                \n",
    "            ),\n",
    "        ),\n",
    "    )\n",
    "    ,mdx='/home/avinash/Inexture/AI/Gen AI/Practice/fake_resume.md'\n",
    ")\n"
   ]
  },
  {
   "cell_type": "code",
   "execution_count": 22,
   "metadata": {},
   "outputs": [],
   "source": [
    "researcher = Agent(\n",
    "    role = \"Tech Job Reasearcher\",\n",
    "    goal = \"Make sure to do amazing analysis on job posting to\"\n",
    "    \"help job applicants\",\n",
    "    tools = [scrape_tool, search_tool],\n",
    "    verbose = True,\n",
    "    backstory = (\n",
    "        \"As a Job Reasearcher, your prowess in navigating\"\n",
    "        \"and extracting critical information\"\n",
    "        \"from job posting is unmatched.\"\n",
    "        \"Your skills help pinpoint the necessary\"\n",
    "        \"qualification and skills sought by employers,\"\n",
    "        \"forming the foundation for effective application tailoring.\"\n",
    "    )\n",
    "\n",
    ")"
   ]
  },
  {
   "cell_type": "code",
   "execution_count": 25,
   "metadata": {},
   "outputs": [],
   "source": [
    "profiler = Agent(\n",
    "    role = \"Personal Profiler for Engineers\",\n",
    "    goal = \"Do incredible research on job applicants\"\n",
    "    \"to help them standout in the job market\",\n",
    "    tools = [scrape_tool, search_tool, read_resume, semantic_search_resume],\n",
    "    verbose = True,\n",
    "    backstory = (\n",
    "        \"Equipped with analytical prowess,\"\n",
    "        \"you dissect and synthesize information\"\n",
    "        \"from diverse sources to craft comprehensive\"\n",
    "        \"personal and professional profiles,\"\n",
    "        \"laying the ground work for personalized resume enhancements.\"\n",
    "    )\n",
    ")"
   ]
  },
  {
   "cell_type": "code",
   "execution_count": 27,
   "metadata": {},
   "outputs": [],
   "source": [
    "resume_strategist = Agent(\n",
    "    role = \"Resume Strategist for Engineers\",\n",
    "    goal = \"Find all the best ways to make\"\n",
    "    \"a resume stand out in the job market.\",\n",
    "    tools = [scrape_tool, search_tool, read_resume, semantic_search_resume],\n",
    "    verbose = True,\n",
    "    backstory = (\n",
    "        \"With a strategic mind and an eye for detail, \"\n",
    "        \"you excel at refining resumes to highlight\"\n",
    "        \"the most relevant skills and experiences,\"\n",
    "        \"ensuring they resonate perfectly with\"\n",
    "        \"the job's requiremnts.\"\n",
    "    )\n",
    "    \n",
    ")"
   ]
  },
  {
   "cell_type": "markdown",
   "metadata": {},
   "source": [
    "#  Creaing TAsk"
   ]
  },
  {
   "cell_type": "code",
   "execution_count": 28,
   "metadata": {},
   "outputs": [],
   "source": [
    "research_task = Task(\n",
    "    description = (\n",
    "        \"Analyze the job posting URL provided\"\n",
    "        \"{job_posting_url} to extract key skills, experiences,\"\n",
    "        \"and qualifications required.\"\n",
    "        \"Use the tools to gather content and \"\n",
    "        \"identify and categorize the requirements.\"\n",
    "    ),\n",
    "\n",
    "    expected_output = (\n",
    "        \"A structured list of job requirements,\"\n",
    "        \"including all necessary skills,\"\n",
    "        \"qualification, and experiences.\"\n",
    "    ),\n",
    "    agent = researcher,\n",
    "    async_execution = True\n",
    ")"
   ]
  },
  {
   "cell_type": "code",
   "execution_count": null,
   "metadata": {},
   "outputs": [],
   "source": [
    "profile_task = Task(\n",
    "    description = (\n",
    "        \"Compile a detailed personal and professional profile\"\n",
    "        \"using the GitHub ({github_url}) URLs,\"\n",
    "        \"and personal write-up ({personal_writeup}).\"\n",
    "        \"Utilize tools to extract and synthesize information\"\n",
    "        \"from these sources.\"\n",
    "    ),\n",
    "    expected_output = (\n",
    "        \"A comprehensive profile document that\",\n",
    "        \"includes skills, project experinces,\"\n",
    "        \"contributions, interests, and communication style.\"\n",
    "    ),\n",
    "    agent = profiler,\n",
    "    async_execution = True\n",
    ")"
   ]
  }
 ],
 "metadata": {
  "kernelspec": {
   "display_name": "myenv",
   "language": "python",
   "name": "python3"
  },
  "language_info": {
   "codemirror_mode": {
    "name": "ipython",
    "version": 3
   },
   "file_extension": ".py",
   "mimetype": "text/x-python",
   "name": "python",
   "nbconvert_exporter": "python",
   "pygments_lexer": "ipython3",
   "version": "3.12.3"
  }
 },
 "nbformat": 4,
 "nbformat_minor": 2
}
